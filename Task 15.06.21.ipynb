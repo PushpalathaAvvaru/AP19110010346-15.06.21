{
 "cells": [
  {
   "cell_type": "code",
   "execution_count": 4,
   "id": "777d8afa",
   "metadata": {},
   "outputs": [
    {
     "name": "stdout",
     "output_type": "stream",
     "text": [
      "Enter the start year2001\n",
      "Enter the end year2021\n",
      "Leap years between the range 2001 and 2021  :- \n",
      "2004\n",
      "2008\n",
      "2012\n",
      "2016\n",
      "2020\n"
     ]
    }
   ],
   "source": [
    "###1)Create a function for finding the leap years in the given range\n",
    "def leap_year(n):\n",
    "    if(n%4==0 and n%100!=0 or n%400==0):\n",
    "        return True\n",
    "    else:\n",
    "        return False\n",
    "a=int(input(\"Enter the start year\"))\n",
    "b=int(input(\"Enter the end year\"))\n",
    "print(\"Leap years between the range\",a,\"and\",b,\" :- \")\n",
    "for i in range(a,b):\n",
    "    if leap_year(i)==True:\n",
    "        print(i)\n"
   ]
  },
  {
   "cell_type": "code",
   "execution_count": 3,
   "id": "7fb805ba",
   "metadata": {},
   "outputs": [
    {
     "name": "stdout",
     "output_type": "stream",
     "text": [
      "Enter a value:1\n",
      "Enter a value:90\n",
      "1\n",
      "2\n",
      "3\n",
      "4\n",
      "5\n",
      "6\n",
      "7\n",
      "8\n",
      "9\n"
     ]
    }
   ],
   "source": [
    "##ARMSTRONG\n",
    "x=int(input(\"Enter a value:\"))\n",
    "y=int(input(\"Enter a value:\"))\n",
    "def armstrong(a,b):\n",
    "    for i in range(a,b+1):\n",
    "        num=i\n",
    "        result=0\n",
    "        n=len(str(i))\n",
    "        while(i!=0):\n",
    "            digit=i%10\n",
    "            result+=digit**n\n",
    "            i=i//10\n",
    "        if(num==result):\n",
    "            print(num)\n",
    "\n",
    "armstrong(x,y)\n",
    "            "
   ]
  },
  {
   "cell_type": "code",
   "execution_count": 7,
   "id": "27d7eb61",
   "metadata": {},
   "outputs": [
    {
     "name": "stdout",
     "output_type": "stream",
     "text": [
      "Enter a value:1\n",
      "Enter a value:20\n",
      "1 is a prime number\n",
      "2 is a prime number\n",
      "3 is a prime number\n",
      "5 is a prime number\n",
      "7 is a prime number\n",
      "11 is a prime number\n",
      "13 is a prime number\n",
      "17 is a prime number\n",
      "19 is a prime number\n"
     ]
    }
   ],
   "source": [
    "##Prime number\n",
    "def prime(a,b):\n",
    "    for n in range(a,b+1):\n",
    "        for i in range(2,n):\n",
    "            if n%i==0:\n",
    "                break\n",
    "        else:\n",
    "            print(n,'is a prime number')\n",
    "x=int(input(\"Enter a value:\"))\n",
    "y=int(input(\"Enter a value:\"))\n",
    "prime(x,y)"
   ]
  },
  {
   "cell_type": "code",
   "execution_count": 36,
   "id": "8ae4a83a",
   "metadata": {},
   "outputs": [
    {
     "name": "stdout",
     "output_type": "stream",
     "text": [
      "Enter your string: SRM\n",
      "3\n"
     ]
    }
   ],
   "source": [
    "#Create a function for finding the count of elements in a string.\"Srm university\"¶\n",
    "string=input('Enter your string: ')\n",
    "def count_string(string):\n",
    "    count_string=0\n",
    "    for i in string:\n",
    "        count_string=count_string+1\n",
    "    return count_string\n",
    "print(count_string(string))"
   ]
  }
 ],
 "metadata": {
  "kernelspec": {
   "display_name": "Python 3",
   "language": "python",
   "name": "python3"
  },
  "language_info": {
   "codemirror_mode": {
    "name": "ipython",
    "version": 3
   },
   "file_extension": ".py",
   "mimetype": "text/x-python",
   "name": "python",
   "nbconvert_exporter": "python",
   "pygments_lexer": "ipython3",
   "version": "3.8.8"
  }
 },
 "nbformat": 4,
 "nbformat_minor": 5
}
